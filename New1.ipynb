def convert_to_seconds(hours):
    return hours * 3600

hours = 1
seconds = convert_to_seconds(hours)
print(seconds)
